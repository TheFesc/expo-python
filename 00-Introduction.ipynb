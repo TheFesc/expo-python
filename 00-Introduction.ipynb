{
 "cells": [
  {
   "cell_type": "markdown",
   "metadata": {
    "slideshow": {
     "slide_type": "slide"
    }
   },
   "source": [
    "# Python in engineering: General Introduction\n",
    "\n",
    "## Python general info\n",
    "Based on from \n",
    "- https://codingnomads.co/blog/business/why-learn-python/\n",
    "- https://python-programming.quantecon.org/about_py.html\n",
    "\n",
    "- Why python: (https://pythonpedia.com/)\n",
    "  - Learning to program\n",
    "  - Web \n",
    "  - Scientific computation and plotting\n",
    "  - Embeded\n",
    "  - Machine learning: Tensor Flow, Keras, Pytorch\n",
    "  - Games\n",
    "  - Gui: http://kivy.org/\n",
    "  - Data Analysis\n",
    "  - Gluing apps\n",
    "  - Quantitative economics: https://python.quantecon.org/\n",
    "  - Finance: https://www.netguru.com/blog/how-python-is-used-in-finance-and-fintech\n",
    "  - Parallel programming (cpu / gpu)\n",
    "  - Hacking (CIA leak vault7)\n",
    "  - Some examples:\n",
    "    - Google: at the beginning the founders of Google made the\n",
    "      decision to use “Python where we can, C++ where we must.”\n",
    "    - Facebook: Python is the third most popular language at the\n",
    "      social media giant (just behind C++ and their proprietary PHP\n",
    "      dialect).\n",
    "    - Instagram: in 2016, the Instagram engineering team boasted\n",
    "      that they were running the world’s largest deployment of the\n",
    "      Django web framework, which is written entirely in Python.\n",
    "    - Spotify: they use Python primarily for data analysis and back\n",
    "      end services.\n",
    "    - Netflix: they rely on Python to power the data analysis on\n",
    "      the server side.\n",
    "    - Reddit: the platform was rewritten from Lisp to Python\n",
    "      because the latter language had a wider range of code\n",
    "      libraries and was more flexible development-wise.\n",
    "\n",
    "\n",
    "\n",
    "\n"
   ]
  },
  {
   "cell_type": "markdown",
   "metadata": {
    "slideshow": {
     "slide_type": "subslide"
    }
   },
   "source": [
    "- Who uses python?\n",
    "![python-used-by](https://codingnomads.co/wp-content/uploads/2019/06/PythonCompanies.png)"
   ]
  },
  {
   "cell_type": "markdown",
   "metadata": {
    "slideshow": {
     "slide_type": "subslide"
    }
   },
   "source": [
    "- Job posting\n",
    "![Source](https://codingnomads.co/wp-content/uploads/2019/02/TopLanguagesGraph_2019.png)\n"
   ]
  },
  {
   "cell_type": "markdown",
   "metadata": {
    "slideshow": {
     "slide_type": "subslide"
    }
   },
   "source": [
    "* Language trends\n",
    "![lang-trends](figs/00-lang-trends.svg)\n",
    "Source : https://insights.stackoverflow.com/trends?tags=python%2Cjava%2Cjavascript%2Cc%23%2Cc%2B%2B%2Cphp)"
   ]
  },
  {
   "cell_type": "markdown",
   "metadata": {
    "slideshow": {
     "slide_type": "subslide"
    }
   },
   "source": [
    "- Python modules trends\n",
    "![modules-trends](figs/00-mods-trends.svg)\n",
    "Source: https://insights.stackoverflow.com/trends?tags=pandas%2Ctensorflow%2Cnumpy%2Cpyspark%2Cmatplotlib%2Cscikit-learn"
   ]
  },
  {
   "cell_type": "markdown",
   "metadata": {
    "slideshow": {
     "slide_type": "slide"
    }
   },
   "source": [
    "## Scientific Computation\n",
    "The main library here is scipy, which offers:\n",
    "\n",
    "* Linear Algebra ([scipy.linalg](http://docs.scipy.org/doc/scipy/reference/linalg.html))\n",
    "* Optimization ([scipy.optimize](http://docs.scipy.org/doc/scipy/reference/optimize.html))\n",
    "* Statistics ([scipy.stats](http://docs.scipy.org/doc/scipy/reference/stats.html))\n",
    "* Special functions ([scipy.special](http://docs.scipy.org/doc/scipy/reference/special.html))\n",
    "* Integration ([scipy.integrate](http://docs.scipy.org/doc/scipy/reference/integrate.html))\n",
    "* Interpolation ([scipy.interpolate](http://docs.scipy.org/doc/scipy/reference/interpolate.html))\n",
    "* Fourier Transforms ([scipy.fftpack](http://docs.scipy.org/doc/scipy/reference/fftpack.html))\n",
    "* Signal Processing ([scipy.signal](http://docs.scipy.org/doc/scipy/reference/signal.html))\n",
    "* Sparse Eigenvalue Problems ([scipy.sparse](http://docs.scipy.org/doc/scipy/reference/sparse.html))\n",
    "* Multi-dimensional image processing ([scipy.ndimage](http://docs.scipy.org/doc/scipy/reference/ndimage.html))\n",
    "* File IO ([scipy.io](http://docs.scipy.org/doc/scipy/reference/io.html))"
   ]
  },
  {
   "cell_type": "markdown",
   "metadata": {
    "slideshow": {
     "slide_type": "subslide"
    }
   },
   "source": [
    "### ODE solving\n",
    "This requires that you install `scipy`, `numpy` and `matplotlib`. You can do it by running\n",
    "```\n",
    "conda install scipy numpy matplotlib\n",
    "```"
   ]
  },
  {
   "cell_type": "code",
   "execution_count": null,
   "metadata": {
    "ExecuteTime": {
     "end_time": "2020-08-25T01:29:02.271462Z",
     "start_time": "2020-08-25T01:29:01.656012Z"
    },
    "slideshow": {
     "slide_type": "fragment"
    }
   },
   "outputs": [],
   "source": [
    "# Lorenz model\n",
    "from scipy.integrate import solve_ivp\n",
    "import numpy as np\n",
    "\n",
    "A=10.0; B=8.0/3.0 ; R=28.0\n",
    "\n",
    "X0=5; Y0=5; Z0=5; T0=0; TF=20; DT=0.03125\n",
    "\n",
    "def fderiv(t, y): \n",
    "    return np.array([-A*y[0] + A*y[1], \n",
    "                     R*y[0] -y[1] - y[0]*y[2], \n",
    "                     -B*y[2] + y[0]*y[1]])\n",
    "\n",
    "sol1 = solve_ivp(fderiv, t_span=[T0, TF], \n",
    "                t_eval=np.arange(T0, TF+DT, DT), \n",
    "                y0=[X0, Y0, Z0])\n",
    "sol2 = solve_ivp(fderiv, t_span=[T0, TF], \n",
    "                t_eval=np.arange(T0, TF+DT, DT), \n",
    "                y0=[X0+0.0001, Y0, Z0])\n",
    "\n",
    "%matplotlib notebook\n",
    "import matplotlib.pyplot as plt\n",
    "import seaborn as sns\n",
    "sns.set()\n",
    "sns.set_context(\"poster\")\n",
    "\n",
    "fig, ax = plt.subplots(2,2, figsize=(12, 10))\n",
    "ax[0, 0].plot(sol1.t, sol1.y[0])\n",
    "ax[0, 0].plot(sol2.t, sol2.y[0])\n",
    "ax[0, 0].set_xlabel(r\"$t$[s]\")\n",
    "ax[0, 0].set_ylabel(r\"$x(t)$\")\n",
    "ax[0, 1].plot(sol1.y[0], sol1.y[1])\n",
    "ax[0, 1].set_xlabel(r\"$y$\")\n",
    "ax[0, 1].set_ylabel(r\"$x$\")\n",
    "ax[1, 0].plot(sol1.y[0], sol1.y[2])\n",
    "ax[1, 0].set_xlabel(r\"$z$\")\n",
    "ax[1, 0].set_ylabel(r\"$x$\")\n",
    "ax[1, 1].plot(sol1.y[1], sol1.y[2])\n",
    "ax[1, 1].set_xlabel(r\"$z$\")\n",
    "ax[1, 1].set_ylabel(r\"$y$\")\n"
   ]
  },
  {
   "cell_type": "code",
   "execution_count": null,
   "metadata": {
    "ExecuteTime": {
     "end_time": "2020-08-25T01:29:02.460486Z",
     "start_time": "2020-08-25T01:29:02.285108Z"
    },
    "slideshow": {
     "slide_type": "subslide"
    }
   },
   "outputs": [],
   "source": [
    "from mpl_toolkits.mplot3d import Axes3D\n",
    "%matplotlib notebook\n",
    "fig = plt.figure()\n",
    "ax = fig.add_subplot(111, projection='3d')\n",
    "ax.plot(sol1.y[0], sol1.y[1], sol1.y[2])\n"
   ]
  },
  {
   "cell_type": "markdown",
   "metadata": {
    "slideshow": {
     "slide_type": "subslide"
    }
   },
   "source": [
    "### Linear and non-linear systems\n",
    "Finding the root for a multi-variable function\n",
    "$$\\vec f(x,y) = (x + 0.5(x-y)^3 -1, 0.5(y-x)^3 + y)$$"
   ]
  },
  {
   "cell_type": "code",
   "execution_count": null,
   "metadata": {
    "ExecuteTime": {
     "end_time": "2020-08-25T01:29:02.506677Z",
     "start_time": "2020-08-25T01:29:02.468260Z"
    },
    "slideshow": {
     "slide_type": "fragment"
    }
   },
   "outputs": [],
   "source": [
    "from scipy import optimize\n",
    "import numpy as np\n",
    "\n",
    "# x is a list (x[0] = x, x[1] = y)\n",
    "def fun(x):\n",
    "    return [x[0]  + 0.5 * (x[0] - x[1])**3 - 1.0, 0.5 * (x[1] - x[0])**3 + x[1]]\n",
    "\n",
    "sol = optimize.root(fun, [0, 0],  method='hybr')\n",
    "#print(\"Solution: \", sol.x)\n",
    "#print(\"f(x): \", fun(sol.x))\n",
    "print(fun(sol.x))"
   ]
  },
  {
   "cell_type": "code",
   "execution_count": null,
   "metadata": {
    "ExecuteTime": {
     "end_time": "2020-08-25T01:29:02.565630Z",
     "start_time": "2020-08-25T01:29:02.523630Z"
    },
    "slideshow": {
     "slide_type": "subslide"
    }
   },
   "outputs": [],
   "source": [
    "import numpy as np\n",
    "from scipy import linalg\n",
    "A = np.array([[0., -1.], [1., 0.]])\n",
    "#A = np.array([[1, 0.], [0., 2.]])\n",
    "#A = np.array([[2, 5, 8, 7], [5, 2, 2, 8], [7, 5, 6, 6], [5, 4, 4, 8]])\n",
    "#A = np.array([[2, 5, 8, 7], [5, 2, 2, 8], [7, 5, 6, 6], [5, 4, 4, 8]])\n",
    "sol = linalg.eig(A) # magic\n",
    "print(\"Eigen-values: \", sol[0])\n",
    "print(\"Eigen-vectors:\\n\", sol[1])\n",
    "# verify\n",
    "print(\"Verification: \", A.dot(sol[1][:, 0]) - sol[0][0]*sol[1][:, 0])\n"
   ]
  },
  {
   "cell_type": "markdown",
   "metadata": {
    "slideshow": {
     "slide_type": "subslide"
    }
   },
   "source": [
    "### Numerical Optimization (Focus topic)"
   ]
  },
  {
   "cell_type": "code",
   "execution_count": null,
   "metadata": {
    "ExecuteTime": {
     "end_time": "2020-08-25T01:29:02.922747Z",
     "start_time": "2020-08-25T01:29:02.578913Z"
    },
    "slideshow": {
     "slide_type": "fragment"
    }
   },
   "outputs": [],
   "source": [
    "from scipy.optimize import minimize\n",
    "\n",
    "# Let's define a new function to estimate\n",
    "def func2D(X):\n",
    "    x,y=X\n",
    "    return (x-1)**2+(y-1)**2\n",
    "\n",
    "x0=[0,0]  # This is the initiall guess, which is mandatory\n",
    "\n",
    "# optimizing without constraints\n",
    "res=minimize(func2D,x0, method='BFGS')\n",
    "print(res.x)\n",
    "\n",
    "# optimizing with the constrains, we define the boundaries as tuples\n",
    "bnd1,bnd2=(2,3),(0,2)\n",
    "res_cons=minimize(func2D,x0, method='L-BFGS-B', bounds=[bnd1,bnd2])\n",
    "print(res_cons.x)\n",
    "\n",
    "## We first plot the function\n",
    "fig, axes1 = plt.subplots(figsize=(10, 8))   # We create the axes to plot\n",
    "x_=y_=np.linspace(-1,3,100)  # Creating 1D arrays between -4 and 4 for x an y\n",
    "X, Y = np.meshgrid(x_, y_)  # With this comand we create a 100x100 2D mesh\n",
    "# We create the figure and also give it an alias to change its attributes\n",
    "c = axes1.contour(X, Y, func2D([X, Y]), 50, cmap='viridis') # The 50 is the number of countour lines\n",
    "axes1.set_xlabel(r\"$x$\", fontsize=18)  # we set the x label\n",
    "axes1.set_ylabel(r\"$y$\", fontsize=18)  # we set the y label\n",
    "plt.colorbar(c, ax=axes1)                # We add a colorbar\n",
    "\n",
    "# Plotting the result for the unconstrained method\n",
    "axes1.plot(res.x[0],res.x[1], 'r*', markersize=15)\n",
    "\n",
    "# Plotting the result for the unconstrained method\n",
    "axes1.plot(res_cons.x[0],res_cons.x[1], 'b*', markersize=15)\n",
    "\n",
    "# Lets highlight the constrained region\n",
    " # we define a rectangle: Rectangle((origin), width,height)\n",
    "bound=plt.Rectangle((bnd1[0],bnd2[0]),bnd1[1]-bnd1[0],bnd2[1]-bnd2[0], facecolor=\"grey\")\n",
    "axes1.add_patch(bound)"
   ]
  },
  {
   "cell_type": "markdown",
   "metadata": {
    "slideshow": {
     "slide_type": "subslide"
    }
   },
   "source": [
    "## Symbolic calculus\n",
    "[sympy](https://www.sympy.org/en/index.html)"
   ]
  },
  {
   "cell_type": "code",
   "execution_count": null,
   "metadata": {
    "ExecuteTime": {
     "end_time": "2020-08-25T01:29:05.693940Z",
     "start_time": "2020-08-25T01:29:02.927045Z"
    },
    "slideshow": {
     "slide_type": "fragment"
    }
   },
   "outputs": [],
   "source": [
    "from sympy import *\n",
    "x, y, z, t = symbols('x y z t')\n",
    "init_printing(use_unicode=True)\n",
    "diff(cos(x), x)"
   ]
  },
  {
   "cell_type": "code",
   "execution_count": null,
   "metadata": {
    "ExecuteTime": {
     "end_time": "2020-08-25T01:29:06.523586Z",
     "start_time": "2020-08-25T01:29:05.697138Z"
    },
    "slideshow": {
     "slide_type": "fragment"
    }
   },
   "outputs": [],
   "source": [
    "integrate(cos(x), x)"
   ]
  },
  {
   "cell_type": "code",
   "execution_count": null,
   "metadata": {
    "ExecuteTime": {
     "end_time": "2020-08-25T01:29:07.512549Z",
     "start_time": "2020-08-25T01:29:06.529380Z"
    },
    "slideshow": {
     "slide_type": "fragment"
    }
   },
   "outputs": [],
   "source": [
    "integrate(exp(-x**2 - y**2), (x, -oo, oo), (y, -oo, oo))"
   ]
  },
  {
   "cell_type": "markdown",
   "metadata": {
    "slideshow": {
     "slide_type": "slide"
    }
   },
   "source": [
    "## Interactive Ploting examples"
   ]
  },
  {
   "cell_type": "markdown",
   "metadata": {
    "slideshow": {
     "slide_type": "subslide"
    }
   },
   "source": [
    "### notebook"
   ]
  },
  {
   "cell_type": "code",
   "execution_count": null,
   "metadata": {
    "ExecuteTime": {
     "end_time": "2020-08-25T01:29:07.727048Z",
     "start_time": "2020-08-25T01:29:07.518732Z"
    },
    "slideshow": {
     "slide_type": "fragment"
    }
   },
   "outputs": [],
   "source": [
    "%matplotlib notebook\n",
    "# From http://scipy-lectures.org/intro/numpy/numpy.html\n",
    "import numpy as np\n",
    "import matplotlib.pyplot as plt\n",
    "\n",
    "image = np.random.rand(60, 60)\n",
    "plt.imshow(image, cmap=plt.cm.viridis) # viridis, heat, magma\n",
    "plt.colorbar()"
   ]
  },
  {
   "cell_type": "markdown",
   "metadata": {
    "slideshow": {
     "slide_type": "subslide"
    }
   },
   "source": [
    "### ipyvolume"
   ]
  },
  {
   "cell_type": "code",
   "execution_count": null,
   "metadata": {
    "ExecuteTime": {
     "end_time": "2020-08-25T01:29:08.990817Z",
     "start_time": "2020-08-25T01:29:07.752335Z"
    },
    "slideshow": {
     "slide_type": "fragment"
    }
   },
   "outputs": [],
   "source": [
    "#See: https://ipyvolume.readthedocs.io/en/latest/\n",
    "# conda install ipyvolume\n",
    "# jupyter nbextension enable --py --sys-prefix ipyvolume\n",
    "# jupyter nbextension enable --py --sys-prefix widgetsnbextension\n",
    "\n",
    "import numpy as np\n",
    "import ipyvolume as ipv\n",
    "V = np.zeros((128,128,128)) # our 3d array\n",
    "# outer box\n",
    "V[30:-30,30:-30,30:-30] = 0.75\n",
    "V[35:-35,35:-35,35:-35] = 0.0\n",
    "# inner box\n",
    "V[50:-50,50:-50,50:-50] = 0.25\n",
    "V[55:-55,55:-55,55:-55] = 0.0\n",
    "ipv.quickvolshow(V, level=[0.25, 0.75], opacity=0.03, level_width=0.1, data_min=0, data_max=1)"
   ]
  },
  {
   "cell_type": "markdown",
   "metadata": {
    "slideshow": {
     "slide_type": "subslide"
    }
   },
   "source": [
    "### bokeh\n",
    "```\n",
    "conda install bokeh\n",
    "```"
   ]
  },
  {
   "cell_type": "code",
   "execution_count": null,
   "metadata": {
    "ExecuteTime": {
     "end_time": "2020-08-25T01:29:10.293109Z",
     "start_time": "2020-08-25T01:29:08.993597Z"
    },
    "slideshow": {
     "slide_type": "fragment"
    }
   },
   "outputs": [],
   "source": [
    "import numpy as np\n",
    "from bokeh.plotting import output_file, show, figure\n",
    "from bokeh.io import output_notebook\n",
    "\n",
    "#TOOLS=\"\"\n",
    "TOOLS = \"pan,wheel_zoom,box_zoom,reset,save,box_select,lasso_select\"\n",
    "output_notebook()\n",
    "\n",
    "x = np.linspace(0, 4*np.pi, 100)\n",
    "y = np.sin(x)\n",
    "\n",
    "#output_file(\"legend.html\")\n",
    "\n",
    "#p = figure()\n",
    "#p = figure(tools=TOOLS)\n",
    "p = figure(tools=TOOLS,tooltips=[(\"x\", \"$x\"), (\"y\", \"$y\")])\n",
    "\n",
    "p.circle(x, y, legend_label=\"sin(x)\")\n",
    "p.line(x, y, legend_label=\"sin(x)\")\n",
    "\n",
    "p.line(x, 2*y, legend_label=\"2*sin(x)\", line_dash=[4, 4], line_color=\"orange\", line_width=2)\n",
    "\n",
    "p.square(x, 3*y, legend_label=\"3*sin(x)\", fill_color=None, line_color=\"green\")\n",
    "p.line(x, 3*y, legend_label=\"3*sin(x)\", line_color=\"green\")\n",
    "\n",
    "p.legend.location = \"top_right\"\n",
    "p.legend.click_policy=\"hide\"\n",
    "\n",
    "show(p)\n"
   ]
  },
  {
   "cell_type": "markdown",
   "metadata": {
    "slideshow": {
     "slide_type": "slide"
    }
   },
   "source": [
    "## Processing pdf, excel, word\n"
   ]
  },
  {
   "cell_type": "markdown",
   "metadata": {
    "slideshow": {
     "slide_type": "subslide"
    }
   },
   "source": [
    "### Excel \n",
    "openpyxl: https://openpyxl.readthedocs.io/en/stable/\n",
    "```\n",
    "conda install openpyxl\n",
    "```\n",
    "Ref material from `Automate the boring stuff with python`, http://nostarch.com/automatestuff/ . "
   ]
  },
  {
   "cell_type": "code",
   "execution_count": null,
   "metadata": {
    "ExecuteTime": {
     "end_time": "2020-08-25T01:29:10.967303Z",
     "start_time": "2020-08-25T01:29:10.295459Z"
    },
    "slideshow": {
     "slide_type": "fragment"
    }
   },
   "outputs": [],
   "source": [
    "import openpyxl as xl\n",
    "wb = xl.load_workbook('files/Excel-example.xlsx')\n",
    "print(\"type:\", type(wb))\n",
    "print(wb.sheetnames)\n",
    "sheet = wb['Sheet1']\n",
    "print(sheet['A1'].value)\n",
    "print(sheet['C3'].value)\n",
    "print(sheet['A1':'C3'])\n",
    "# Modify the workbook\n",
    "sheet.title = 'NEW SHEET TITLE'\n",
    "wb.create_sheet('NEW sheet')\n",
    "sheet = wb['NEW sheet']\n",
    "# modify some format\n",
    "from openpyxl.styles import colors\n",
    "from openpyxl.styles import Font, Color\n",
    "sheet['A1'] = 'Hello world!'\n",
    "sheet['A1'].font = Font(color=\"FF0000\", italic = True)\n",
    "#italic24Font = fonts(size=24, italic=True)\n",
    "#styleObj = Style(font=italic24Font)\n",
    "#sheet['A'].style/styleObj\n",
    "sheet['B3'] = 'Hello world B3!'\n",
    "print(\"Writing results ...\")\n",
    "wb.save('tmp/out.xlsx')"
   ]
  },
  {
   "cell_type": "markdown",
   "metadata": {
    "slideshow": {
     "slide_type": "slide"
    }
   },
   "source": [
    "## Data Processing and Analysis (Focus topic)\n",
    "There are many tools to process and analyze data. Here we will use pandas."
   ]
  },
  {
   "cell_type": "code",
   "execution_count": null,
   "metadata": {
    "ExecuteTime": {
     "end_time": "2020-08-25T01:29:11.350088Z",
     "start_time": "2020-08-25T01:29:10.971701Z"
    },
    "slideshow": {
     "slide_type": "fragment"
    }
   },
   "outputs": [],
   "source": [
    "import pandas as pd\n",
    "import numpy as np\n",
    "import matplotlib.pyplot as plt\n",
    "\n",
    "df = pd.read_csv(\"https://raw.githubusercontent.com/jrjohansson/numerical-python-book-code/master/european_cities.csv\")\n",
    "df.info()"
   ]
  },
  {
   "cell_type": "code",
   "execution_count": null,
   "metadata": {
    "ExecuteTime": {
     "end_time": "2020-08-25T01:29:11.415639Z",
     "start_time": "2020-08-25T01:29:11.359525Z"
    },
    "slideshow": {
     "slide_type": "subslide"
    }
   },
   "outputs": [],
   "source": [
    "df.head(4)"
   ]
  },
  {
   "cell_type": "code",
   "execution_count": null,
   "metadata": {
    "ExecuteTime": {
     "end_time": "2020-08-25T01:29:11.437010Z",
     "start_time": "2020-08-25T01:29:11.418352Z"
    },
    "slideshow": {
     "slide_type": "fragment"
    }
   },
   "outputs": [],
   "source": [
    "df.dtypes"
   ]
  },
  {
   "cell_type": "code",
   "execution_count": null,
   "metadata": {
    "ExecuteTime": {
     "end_time": "2020-08-25T01:29:11.480708Z",
     "start_time": "2020-08-25T01:29:11.448227Z"
    },
    "slideshow": {
     "slide_type": "subslide"
    }
   },
   "outputs": [],
   "source": [
    "df['Numeric Population'] = df.Population.apply(lambda x: int(x.replace(',', ''))) # create a new column\n",
    "df.head()"
   ]
  },
  {
   "cell_type": "markdown",
   "metadata": {
    "slideshow": {
     "slide_type": "slide"
    }
   },
   "source": [
    "## Image Manipulation\n",
    "From: http://scipy-lectures.org/advanced/image_processing/"
   ]
  },
  {
   "cell_type": "code",
   "execution_count": null,
   "metadata": {
    "ExecuteTime": {
     "end_time": "2020-08-25T01:29:12.886367Z",
     "start_time": "2020-08-25T01:29:11.487551Z"
    },
    "slideshow": {
     "slide_type": "fragment"
    }
   },
   "outputs": [],
   "source": [
    "from scipy import misc\n",
    "import imageio\n",
    "f = misc.face()\n",
    "imageio.imwrite('tmp/face.png', f) # uses the Image module (PIL)\n",
    "\n",
    "import matplotlib.pyplot as plt\n",
    "plt.imshow(f)\n",
    "plt.show()"
   ]
  },
  {
   "cell_type": "code",
   "execution_count": null,
   "metadata": {
    "ExecuteTime": {
     "end_time": "2020-08-25T01:29:13.156862Z",
     "start_time": "2020-08-25T01:29:12.888920Z"
    },
    "slideshow": {
     "slide_type": "subslide"
    }
   },
   "outputs": [],
   "source": [
    "from scipy import ndimage\n",
    "face = misc.face(gray=True)\n",
    "lx, ly = face.shape\n",
    "# Cropping\n",
    "crop_face = face[lx // 4: - lx // 4, ly // 4: - ly // 4]\n",
    "plt.imshow(crop_face)"
   ]
  },
  {
   "cell_type": "code",
   "execution_count": null,
   "metadata": {
    "ExecuteTime": {
     "end_time": "2020-08-25T01:29:13.196667Z",
     "start_time": "2020-08-25T01:29:13.159739Z"
    },
    "slideshow": {
     "slide_type": "subslide"
    }
   },
   "outputs": [],
   "source": [
    "# up <-> down flip\n",
    "flip_ud_face = np.flipud(face)\n",
    "plt.imshow(flip_ud_face)"
   ]
  },
  {
   "cell_type": "code",
   "execution_count": null,
   "metadata": {
    "ExecuteTime": {
     "end_time": "2020-08-25T01:29:13.443151Z",
     "start_time": "2020-08-25T01:29:13.202450Z"
    },
    "slideshow": {
     "slide_type": "subslide"
    }
   },
   "outputs": [],
   "source": [
    "# rotation\n",
    "rotate_face = ndimage.rotate(face, 45)\n",
    "plt.imshow(rotate_face)\n"
   ]
  },
  {
   "cell_type": "markdown",
   "metadata": {
    "slideshow": {
     "slide_type": "slide"
    }
   },
   "source": [
    "## Machine Learning\n",
    "- Keras: https://keras.io/\n",
    "- Tensorflow: https://www.tensorflow.org/\n",
    "- Pytorch : https://pytorch.org/\n",
    "- Scikit-learn : https://scikit-learn.org/stable/auto_examples/index.html"
   ]
  },
  {
   "cell_type": "code",
   "execution_count": null,
   "metadata": {
    "ExecuteTime": {
     "end_time": "2020-08-25T01:29:14.925401Z",
     "start_time": "2020-08-25T01:29:13.453536Z"
    },
    "slideshow": {
     "slide_type": "fragment"
    }
   },
   "outputs": [],
   "source": [
    "# From https://scikit-learn.org/stable/auto_examples/cluster/plot_kmeans_assumptions.html#sphx-glr-auto-examples-cluster-plot-kmeans-assumptions-py\n",
    "# Author: Phil Roth <mr.phil.roth@gmail.com>\n",
    "# License: BSD 3 clause\n",
    "\n",
    "import numpy as np\n",
    "import matplotlib.pyplot as plt\n",
    "\n",
    "from sklearn.cluster import KMeans\n",
    "from sklearn.datasets import make_blobs\n",
    "\n",
    "plt.figure(figsize=(12, 12))\n",
    "\n",
    "n_samples = 1500\n",
    "random_state = 170\n",
    "X, y = make_blobs(n_samples=n_samples, random_state=random_state)\n",
    "\n",
    "# Incorrect number of clusters\n",
    "y_pred = KMeans(n_clusters=2, random_state=random_state).fit_predict(X)\n",
    "\n",
    "plt.subplot(221)\n",
    "plt.scatter(X[:, 0], X[:, 1], c=y_pred)\n",
    "plt.title(\"Incorrect Number of Blobs\")\n",
    "\n",
    "# Anisotropicly distributed data\n",
    "transformation = [[0.60834549, -0.63667341], [-0.40887718, 0.85253229]]\n",
    "X_aniso = np.dot(X, transformation)\n",
    "y_pred = KMeans(n_clusters=3, random_state=random_state).fit_predict(X_aniso)\n",
    "\n",
    "plt.subplot(222)\n",
    "plt.scatter(X_aniso[:, 0], X_aniso[:, 1], c=y_pred)\n",
    "plt.title(\"Anisotropicly Distributed Blobs\")\n",
    "\n",
    "# Different variance\n",
    "X_varied, y_varied = make_blobs(n_samples=n_samples,\n",
    "                                cluster_std=[1.0, 2.5, 0.5],\n",
    "                                random_state=random_state)\n",
    "y_pred = KMeans(n_clusters=3, random_state=random_state).fit_predict(X_varied)\n",
    "\n",
    "plt.subplot(223)\n",
    "plt.scatter(X_varied[:, 0], X_varied[:, 1], c=y_pred)\n",
    "plt.title(\"Unequal Variance\")\n",
    "\n",
    "# Unevenly sized blobs\n",
    "X_filtered = np.vstack((X[y == 0][:500], X[y == 1][:100], X[y == 2][:10]))\n",
    "y_pred = KMeans(n_clusters=3,\n",
    "                random_state=random_state).fit_predict(X_filtered)\n",
    "\n",
    "plt.subplot(224)\n",
    "plt.scatter(X_filtered[:, 0], X_filtered[:, 1], c=y_pred)\n",
    "plt.title(\"Unevenly Sized Blobs\")\n",
    "\n",
    "plt.show()"
   ]
  },
  {
   "cell_type": "markdown",
   "metadata": {
    "slideshow": {
     "slide_type": "slide"
    }
   },
   "source": [
    "## Visualization (vpython/Glowscript)\n",
    "https://vpython.org/\n"
   ]
  },
  {
   "cell_type": "code",
   "execution_count": null,
   "metadata": {
    "ExecuteTime": {
     "end_time": "2020-08-25T01:29:46.796937Z",
     "start_time": "2020-08-25T01:29:14.929243Z"
    },
    "slideshow": {
     "slide_type": "fragment"
    }
   },
   "outputs": [],
   "source": [
    "from vpython import *\n",
    "scene.caption = \"\"\"To rotate \"camera\", drag with right button or Ctrl-drag.\n",
    "To zoom, drag with middle button or Alt/Option depressed, or use scroll wheel.\n",
    "  On a two-button mouse, middle is left + right.\n",
    "To pan left/right and up/down, Shift-drag.\n",
    "Touch screen: pinch/extend to zoom, swipe or two-finger rotate.\"\"\"\n",
    "\n",
    "side = 4.0\n",
    "thk = 0.3\n",
    "s2 = 2*side - thk\n",
    "s3 = 2*side + thk\n",
    "\n",
    "wallR = box (pos=vector( side, 0, 0), size=vector(thk, s2, s3),  color = color.red)\n",
    "wallL = box (pos=vector(-side, 0, 0), size=vector(thk, s2, s3),  color = color.red)\n",
    "wallB = box (pos=vector(0, -side, 0), size=vector(s3, thk, s3),  color = color.blue)\n",
    "wallT = box (pos=vector(0,  side, 0), size=vector(s3, thk, s3),  color = color.blue)\n",
    "wallBK = box(pos=vector(0, 0, -side), size=vector(s2, s2, thk), color = color.gray(0.7))\n",
    "\n",
    "ball = sphere (color = color.green, radius = 0.4, make_trail=True, retain=200)\n",
    "ball.mass = 1.0\n",
    "ball.p = vector (-0.15, -0.23, +0.27)\n",
    "\n",
    "side = side - thk*0.5 - ball.radius\n",
    "\n",
    "dt = 0.3\n",
    "while True:\n",
    "    rate(200)\n",
    "    ball.pos = ball.pos + (ball.p/ball.mass)*dt\n",
    "    if not (side > ball.pos.x > -side):\n",
    "        ball.p.x = -ball.p.x\n",
    "    if not (side > ball.pos.y > -side):\n",
    "        ball.p.y = -ball.p.y\n",
    "    if not (side > ball.pos.z > -side):\n",
    "        ball.p.z = -ball.p.z"
   ]
  }
 ],
 "metadata": {
  "celltoolbar": "Slideshow",
  "kernelspec": {
   "display_name": "Python 3",
   "language": "python",
   "name": "python3"
  },
  "language_info": {
   "codemirror_mode": {
    "name": "ipython",
    "version": 3
   },
   "file_extension": ".py",
   "mimetype": "text/x-python",
   "name": "python",
   "nbconvert_exporter": "python",
   "pygments_lexer": "ipython3",
   "version": "3.8.5"
  },
  "toc": {
   "base_numbering": 1,
   "nav_menu": {},
   "number_sections": true,
   "sideBar": true,
   "skip_h1_title": false,
   "title_cell": "Table of Contents",
   "title_sidebar": "Contents",
   "toc_cell": false,
   "toc_position": {
    "height": "calc(100% - 180px)",
    "left": "10px",
    "top": "150px",
    "width": "165px"
   },
   "toc_section_display": true,
   "toc_window_display": false
  }
 },
 "nbformat": 4,
 "nbformat_minor": 4
}
