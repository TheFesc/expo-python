{
 "cells": [
  {
   "cell_type": "markdown",
   "metadata": {},
   "source": [
    "# Pandas Introduction\n",
    "\n",
    "Pandas is the de-facto python standar tool to perform data processing and analysis. The current version is v0.22.0 (see http://pandas.pydata.org/). \n",
    "\n",
    "You can install it by just running\n",
    "\n",
    "    conda install pandas\n",
    "    \n",
    "In the following we will use both the official pandas documentation and the book \"Numerical Python - A practical technique approach for Industry\", from Robert Johansson, as the basis for this introduction.\n",
    "\n",
    "We will also use the seaborn libray to generate plots that are pleasant and clear almost by default. Please install it.\n",
    "\n",
    "## Starting with pandas"
   ]
  },
  {
   "cell_type": "code",
   "execution_count": null,
   "metadata": {
    "ExecuteTime": {
     "end_time": "2020-08-27T03:30:39.021929Z",
     "start_time": "2020-08-27T03:30:36.825538Z"
    }
   },
   "outputs": [],
   "source": [
    "import pandas as pd\n",
    "import numpy as np\n",
    "import matplotlib.pyplot as plt"
   ]
  },
  {
   "cell_type": "markdown",
   "metadata": {},
   "source": [
    "## Series\n",
    "A series is a convenient container for one-dimensional arrays, which can use descriptive name for indexing and allows for quick access to some descriptive statistics."
   ]
  },
  {
   "cell_type": "code",
   "execution_count": null,
   "metadata": {
    "ExecuteTime": {
     "end_time": "2020-08-27T03:30:39.085113Z",
     "start_time": "2020-08-27T03:30:39.030186Z"
    }
   },
   "outputs": [],
   "source": [
    "import pandas as pd\n",
    "import numpy as np\n",
    "import matplotlib.pyplot as plt\n",
    "\n",
    "s = pd.Series([909976, 8615246, 2872086, 2273305])\n",
    "s"
   ]
  },
  {
   "cell_type": "markdown",
   "metadata": {},
   "source": [
    "The indexes are, by default, of dtype int64. You can access them directly (or by values) as follows"
   ]
  },
  {
   "cell_type": "code",
   "execution_count": null,
   "metadata": {
    "ExecuteTime": {
     "end_time": "2020-08-27T02:55:03.539116Z",
     "start_time": "2020-08-27T02:55:03.529784Z"
    }
   },
   "outputs": [],
   "source": [
    "print(s.index)\n",
    "print(s.values)"
   ]
  },
  {
   "cell_type": "markdown",
   "metadata": {},
   "source": [
    "You can change the index to something more descriptive. In this case, those numbers represent the population on a given city, so it would be much more descriptive to use the city name as index:"
   ]
  },
  {
   "cell_type": "code",
   "execution_count": null,
   "metadata": {
    "ExecuteTime": {
     "end_time": "2020-08-27T02:55:32.831579Z",
     "start_time": "2020-08-27T02:55:32.811333Z"
    }
   },
   "outputs": [],
   "source": [
    "s.index = [\"Stockholm\", \"London\", \"Rome\", \"Paris\"]\n",
    "s.name = \"Population\"\n",
    "print(s)"
   ]
  },
  {
   "cell_type": "markdown",
   "metadata": {},
   "source": [
    "And you can access to the data directly"
   ]
  },
  {
   "cell_type": "code",
   "execution_count": null,
   "metadata": {
    "ExecuteTime": {
     "end_time": "2020-08-27T02:55:42.925654Z",
     "start_time": "2020-08-27T02:55:42.912988Z"
    }
   },
   "outputs": [],
   "source": [
    "print(s[\"London\"])\n",
    "print(s.Stockholm)"
   ]
  },
  {
   "cell_type": "markdown",
   "metadata": {},
   "source": [
    "You can use several indexes to generate a sub-series:"
   ]
  },
  {
   "cell_type": "code",
   "execution_count": null,
   "metadata": {
    "ExecuteTime": {
     "end_time": "2020-08-27T02:55:57.162841Z",
     "start_time": "2020-08-27T02:55:57.130131Z"
    }
   },
   "outputs": [],
   "source": [
    "t = s[[\"Paris\", \"Rome\"]]\n",
    "print(t)"
   ]
  },
  {
   "cell_type": "markdown",
   "metadata": {},
   "source": [
    "You can access basic statistics at a hand:"
   ]
  },
  {
   "cell_type": "code",
   "execution_count": null,
   "metadata": {
    "ExecuteTime": {
     "end_time": "2020-08-27T02:56:02.345071Z",
     "start_time": "2020-08-27T02:56:02.329642Z"
    }
   },
   "outputs": [],
   "source": [
    "s.mean(), s.std(), s.median(), s.quantile(0.5)"
   ]
  },
  {
   "cell_type": "code",
   "execution_count": null,
   "metadata": {
    "ExecuteTime": {
     "end_time": "2020-08-27T02:56:03.310020Z",
     "start_time": "2020-08-27T02:56:03.295348Z"
    }
   },
   "outputs": [],
   "source": [
    "s.describe()"
   ]
  },
  {
   "cell_type": "markdown",
   "metadata": {},
   "source": [
    "And you can also plot easily, "
   ]
  },
  {
   "cell_type": "code",
   "execution_count": null,
   "metadata": {
    "ExecuteTime": {
     "end_time": "2020-08-27T02:56:14.971859Z",
     "start_time": "2020-08-27T02:56:14.163161Z"
    }
   },
   "outputs": [],
   "source": [
    "fig, axes = plt.subplots(1, 3, figsize=(12, 3))\n",
    "s.plot(ax=axes[0], kind='line', title='line')\n",
    "s.plot(ax=axes[1], kind='bar', title='bar')\n",
    "s.plot(ax=axes[2], kind='pie', title='pie')\n",
    "fig.savefig(\"tmp/fig.pdf\", bbox_inches='tight')"
   ]
  },
  {
   "cell_type": "markdown",
   "metadata": {},
   "source": [
    "## Dataframe\n",
    "The dataframe is the most important object inside pandas. It allows to represent, access, process, etc multi-dimensional data. \n",
    "\n",
    "![Pandas dataframe](https://www.w3resource.com/w3r_images/pandas-data-structure.svg)\n",
    "Source: https://www.w3resource.com/python-exercises/pandas/index.php\n",
    "\n",
    "![Pandas dataframe example](https://miro.medium.com/max/1400/1*ZSehcrMtBWN7_qCWq_HiSg.png)\n",
    "Source: https://medium.com/dunder-data/selecting-subsets-of-data-in-pandas-6fcd0170be9c\n",
    "\n",
    "You can initialize a dataframe in several ways. For example, you can use a dictionary or a nested list. For example, you can do something like"
   ]
  },
  {
   "cell_type": "code",
   "execution_count": null,
   "metadata": {
    "ExecuteTime": {
     "end_time": "2020-08-27T03:31:08.978990Z",
     "start_time": "2020-08-27T03:31:08.949016Z"
    }
   },
   "outputs": [],
   "source": [
    "import pandas as pd\n",
    "import numpy as np\n",
    "import matplotlib.pyplot as plt\n",
    "\n",
    "df = pd.DataFrame([[909976, \"Sweden\"],\n",
    "                   [8615246, \"United Kingdom\"],\n",
    "                   [2872086, \"Italy\"],\n",
    "                   [2273305, \"France\"],\n",
    "                  [344444, np.nan]])\n",
    "df"
   ]
  },
  {
   "cell_type": "code",
   "execution_count": null,
   "metadata": {
    "ExecuteTime": {
     "end_time": "2020-08-27T03:31:42.663760Z",
     "start_time": "2020-08-27T03:31:42.637583Z"
    }
   },
   "outputs": [],
   "source": [
    "df.dropna()"
   ]
  },
  {
   "cell_type": "code",
   "execution_count": null,
   "metadata": {
    "ExecuteTime": {
     "end_time": "2020-08-27T03:33:03.248827Z",
     "start_time": "2020-08-27T03:33:03.231471Z"
    }
   },
   "outputs": [],
   "source": [
    "df.fillna(\"Unknown\")"
   ]
  },
  {
   "cell_type": "code",
   "execution_count": null,
   "metadata": {},
   "outputs": [],
   "source": [
    "df = df.dropna()"
   ]
  },
  {
   "cell_type": "code",
   "execution_count": null,
   "metadata": {
    "ExecuteTime": {
     "end_time": "2020-08-27T03:31:47.763324Z",
     "start_time": "2020-08-27T03:31:47.738730Z"
    }
   },
   "outputs": [],
   "source": [
    "df.index = [\"Stockholm\", \"London\", \"Rome\", \"Paris\"]\n",
    "df.columns = [\"Population\", \"State\"]\n",
    "df"
   ]
  },
  {
   "cell_type": "code",
   "execution_count": null,
   "metadata": {
    "ExecuteTime": {
     "end_time": "2020-08-27T02:57:43.428598Z",
     "start_time": "2020-08-27T02:57:43.386883Z"
    }
   },
   "outputs": [],
   "source": [
    "df.Population"
   ]
  },
  {
   "cell_type": "code",
   "execution_count": null,
   "metadata": {
    "ExecuteTime": {
     "end_time": "2020-08-27T02:57:44.756712Z",
     "start_time": "2020-08-27T02:57:44.742499Z"
    }
   },
   "outputs": [],
   "source": [
    "df.State"
   ]
  },
  {
   "cell_type": "markdown",
   "metadata": {},
   "source": [
    "You can access a specific column using the `loc` method, which produces a series object (previously you could use `ix` but it is now deprecated. Now use `.loc` or `iloc`)"
   ]
  },
  {
   "cell_type": "code",
   "execution_count": null,
   "metadata": {
    "ExecuteTime": {
     "end_time": "2020-08-27T02:57:51.470357Z",
     "start_time": "2020-08-27T02:57:51.449548Z"
    }
   },
   "outputs": [],
   "source": [
    "df.loc[[\"London\", \"Paris\"]] # This produces another data frame"
   ]
  },
  {
   "cell_type": "code",
   "execution_count": null,
   "metadata": {
    "ExecuteTime": {
     "end_time": "2020-08-27T02:57:54.019264Z",
     "start_time": "2020-08-27T02:57:54.012115Z"
    }
   },
   "outputs": [],
   "source": [
    "df.loc[[\"London\", \"Paris\"], \"Population\"] # This produces another data frame, and access a specific column"
   ]
  },
  {
   "cell_type": "markdown",
   "metadata": {},
   "source": [
    "## Reading a large csv into a dataframe\n",
    "Download the population for many european cities from the url: https://en.wikipedia.org/wiki/List_of_cities_in_the_European_Union_by_population_within_city_limits or directly from https://raw.githubusercontent.com/jrjohansson/numerical-python-book-code/master/european_cities.csv\n",
    "        "
   ]
  },
  {
   "cell_type": "code",
   "execution_count": null,
   "metadata": {
    "ExecuteTime": {
     "end_time": "2020-08-27T03:09:01.539714Z",
     "start_time": "2020-08-27T03:09:01.192215Z"
    }
   },
   "outputs": [],
   "source": [
    "import pandas as pd\n",
    "import numpy as np\n",
    "import matplotlib.pyplot as plt\n",
    "\n",
    "df = pd.read_csv(\"https://raw.githubusercontent.com/jrjohansson/numerical-python-book-code/master/european_cities.csv\")\n",
    "df.info()"
   ]
  },
  {
   "cell_type": "code",
   "execution_count": null,
   "metadata": {
    "ExecuteTime": {
     "end_time": "2020-08-27T02:58:03.613456Z",
     "start_time": "2020-08-27T02:58:03.594428Z"
    }
   },
   "outputs": [],
   "source": [
    "df.head(7)"
   ]
  },
  {
   "cell_type": "code",
   "execution_count": null,
   "metadata": {
    "ExecuteTime": {
     "end_time": "2020-08-27T02:58:23.872995Z",
     "start_time": "2020-08-27T02:58:23.854299Z"
    }
   },
   "outputs": [],
   "source": [
    "df.tail()"
   ]
  },
  {
   "cell_type": "markdown",
   "metadata": {},
   "source": [
    "### Processing info\n",
    "Let's say that you want to have the population as integers. You will need to extract the population , to replace the ',' and to cast the values to integers. You could use the `apply` method to do that "
   ]
  },
  {
   "cell_type": "code",
   "execution_count": null,
   "metadata": {
    "ExecuteTime": {
     "end_time": "2020-08-27T03:09:47.754332Z",
     "start_time": "2020-08-27T03:09:47.733253Z"
    }
   },
   "outputs": [],
   "source": [
    "df['Numeric Population'] = df.Population.apply(lambda x: int(x.replace(',', ''))) # create a new column\n",
    "df.head()"
   ]
  },
  {
   "cell_type": "code",
   "execution_count": null,
   "metadata": {
    "ExecuteTime": {
     "end_time": "2020-08-27T03:09:48.686774Z",
     "start_time": "2020-08-27T03:09:48.676538Z"
    }
   },
   "outputs": [],
   "source": [
    "df.dtypes"
   ]
  },
  {
   "cell_type": "code",
   "execution_count": null,
   "metadata": {
    "ExecuteTime": {
     "end_time": "2020-08-27T03:09:49.332969Z",
     "start_time": "2020-08-27T03:09:49.307667Z"
    }
   },
   "outputs": [],
   "source": [
    "print(df[\"State\"].values[:3])\n",
    "df[\"State\"] = df[\"State\"].apply(lambda x: x.strip())\n",
    "df.head()"
   ]
  },
  {
   "cell_type": "markdown",
   "metadata": {},
   "source": [
    "You can also change the index,"
   ]
  },
  {
   "cell_type": "code",
   "execution_count": null,
   "metadata": {
    "ExecuteTime": {
     "end_time": "2020-08-27T02:59:28.502579Z",
     "start_time": "2020-08-27T02:59:28.481620Z"
    }
   },
   "outputs": [],
   "source": [
    "df2 = df.set_index(\"City\")\n",
    "df2 = df2.sort_index()\n",
    "df2.head()"
   ]
  },
  {
   "cell_type": "code",
   "execution_count": null,
   "metadata": {
    "ExecuteTime": {
     "end_time": "2020-08-27T02:59:36.699684Z",
     "start_time": "2020-08-27T02:59:36.649884Z"
    }
   },
   "outputs": [],
   "source": [
    "df3 = df.set_index([\"State\", \"City\"]).sort_index(0)\n",
    "df3.head(7)"
   ]
  },
  {
   "cell_type": "code",
   "execution_count": null,
   "metadata": {
    "ExecuteTime": {
     "end_time": "2020-08-27T02:59:52.872623Z",
     "start_time": "2020-08-27T02:59:52.857189Z"
    }
   },
   "outputs": [],
   "source": [
    "df3.loc[\"Sweden\"]"
   ]
  },
  {
   "cell_type": "code",
   "execution_count": null,
   "metadata": {
    "ExecuteTime": {
     "end_time": "2020-08-27T03:00:10.893409Z",
     "start_time": "2020-08-27T03:00:10.880553Z"
    }
   },
   "outputs": [],
   "source": [
    "df3.loc[\"Sweden\"].sort_values(\"Numeric Population\") # Sort by another column"
   ]
  },
  {
   "cell_type": "markdown",
   "metadata": {},
   "source": [
    "You can count the categorical data:"
   ]
  },
  {
   "cell_type": "code",
   "execution_count": null,
   "metadata": {
    "ExecuteTime": {
     "end_time": "2020-08-27T03:00:16.879812Z",
     "start_time": "2020-08-27T03:00:16.853960Z"
    }
   },
   "outputs": [],
   "source": [
    "city_counts = df.State.value_counts()\n",
    "city_counts.head()"
   ]
  },
  {
   "cell_type": "markdown",
   "metadata": {},
   "source": [
    "**Exercise: ** How large the total population of all cities within a state? Hint: Use the sum function"
   ]
  },
  {
   "cell_type": "code",
   "execution_count": null,
   "metadata": {
    "ExecuteTime": {
     "end_time": "2020-08-27T03:00:44.700396Z",
     "start_time": "2020-08-27T03:00:44.679827Z"
    }
   },
   "outputs": [],
   "source": [
    "# extract the data indexed by state abd city\n",
    "dfaux = df[[\"State\", \"City\", \"Numeric Population\"]].set_index([\"State\", \"City\"])\n",
    "dfaux = dfaux.sum(level=\"State\")\n",
    "dfaux.head(5)"
   ]
  },
  {
   "cell_type": "code",
   "execution_count": null,
   "metadata": {
    "ExecuteTime": {
     "end_time": "2020-08-27T03:00:57.587230Z",
     "start_time": "2020-08-27T03:00:57.568497Z"
    }
   },
   "outputs": [],
   "source": [
    "# Or you can use the groupby method\n",
    "dfaux = df.groupby(\"State\").sum().sort_values(\"Numeric Population\", ascending=False)\n",
    "dfaux.head(5)"
   ]
  },
  {
   "cell_type": "code",
   "execution_count": null,
   "metadata": {
    "ExecuteTime": {
     "end_time": "2020-08-27T03:01:02.777964Z",
     "start_time": "2020-08-27T03:01:02.759992Z"
    }
   },
   "outputs": [],
   "source": [
    "dfaux.head(5).drop(\"Rank\", axis=1)"
   ]
  },
  {
   "cell_type": "markdown",
   "metadata": {},
   "source": [
    "We can also plot"
   ]
  },
  {
   "cell_type": "code",
   "execution_count": null,
   "metadata": {
    "ExecuteTime": {
     "end_time": "2020-08-27T03:01:06.822776Z",
     "start_time": "2020-08-27T03:01:05.626057Z"
    }
   },
   "outputs": [],
   "source": [
    "fig, (ax1, ax2) = plt.subplots(1, 2, figsize=(12, 4))\n",
    "city_counts.plot(kind='barh', ax=ax1)\n",
    "ax1.set_xlabel(\"# cities in top 105\")\n",
    "dfaux[\"Numeric Population\"].plot(kind='barh', ax=ax2)\n",
    "ax2.set_xlabel(\"Total pop. in top 105 cities\")"
   ]
  },
  {
   "cell_type": "code",
   "execution_count": null,
   "metadata": {
    "ExecuteTime": {
     "end_time": "2020-08-27T03:18:49.100964Z",
     "start_time": "2020-08-27T03:18:49.063167Z"
    }
   },
   "outputs": [],
   "source": [
    "# Pivot tables\n",
    "# https://pandas.pydata.org/pandas-docs/stable/reference/api/pandas.pivot_table.html\n",
    "print(df[df.State == \"France\"])\n",
    "df.pivot_table(values=\"Numeric Population\", index=[\"State\"], aggfunc=np.sum)"
   ]
  },
  {
   "cell_type": "markdown",
   "metadata": {},
   "source": [
    "### Date series and data frames"
   ]
  },
  {
   "cell_type": "code",
   "execution_count": null,
   "metadata": {
    "ExecuteTime": {
     "end_time": "2020-08-27T03:01:44.603150Z",
     "start_time": "2020-08-27T03:01:44.587883Z"
    }
   },
   "outputs": [],
   "source": [
    "dates = pd.date_range('20130101', periods=6)\n",
    "print(dates)\n",
    "df = pd.DataFrame(np.random.randn(6,4), index=dates, columns=list('ABCD'))\n",
    "print(df)"
   ]
  },
  {
   "cell_type": "code",
   "execution_count": null,
   "metadata": {
    "ExecuteTime": {
     "end_time": "2020-08-27T03:02:00.551674Z",
     "start_time": "2020-08-27T03:02:00.525045Z"
    }
   },
   "outputs": [],
   "source": [
    "df.sort_index(axis=1, ascending=False)"
   ]
  },
  {
   "cell_type": "code",
   "execution_count": null,
   "metadata": {
    "ExecuteTime": {
     "end_time": "2020-08-27T03:02:08.834400Z",
     "start_time": "2020-08-27T03:02:08.817019Z"
    }
   },
   "outputs": [],
   "source": [
    "df[df.A > 0]"
   ]
  },
  {
   "cell_type": "code",
   "execution_count": null,
   "metadata": {
    "ExecuteTime": {
     "end_time": "2020-08-27T03:02:16.405238Z",
     "start_time": "2020-08-27T03:02:16.389663Z"
    }
   },
   "outputs": [],
   "source": [
    "df[df > 0]"
   ]
  },
  {
   "cell_type": "code",
   "execution_count": null,
   "metadata": {
    "ExecuteTime": {
     "end_time": "2020-08-27T03:02:17.505314Z",
     "start_time": "2020-08-27T03:02:17.492415Z"
    }
   },
   "outputs": [],
   "source": [
    "df[df > 0].fillna(value=5)"
   ]
  },
  {
   "cell_type": "markdown",
   "metadata": {
    "ExecuteTime": {
     "end_time": "2020-08-27T13:57:28.991214Z",
     "start_time": "2020-08-27T13:57:28.986286Z"
    }
   },
   "source": [
    "## Practice\n",
    "1) The Colombian government offers public dataset regarding its functioning, at the webpage https://www.datos.gov.co/. As an example, we will get the budget info from Cali, and extract the departments with budget execution smaller than 90%. REF: https://www.datos.gov.co/dataset/Ejecuci-n-Presupuestal-de-Gastos-por-Organismos-a-/qiu9-tp3c\n",
    "  - Load the data from \"http://datos.cali.gov.co/dataset/f7c0d30f-233a-4dbb-bf9e-66d5bf358410/resource/d37f213d-5e5c-4066-bd8f-fc84ca2da0de/download/ejecucion-presupuestal-de-gastos-por-organismos-a-diciembre-31-de-2019.xlsx\"\n",
    "  - (Data cleaning) As you can see, there are several columns that have spaces on their titles. Remove those spaces for easier indexing. Use the method `df.rename` on one column, then devise a way to do it for all columns.\n",
    "  - Select the departments with budget execution smaller than 90% and print them.\n",
    "  - For those departments, compute the ratio between the initial budget and any budget addition.\n",
    "\n",
    "2) Load the gapminder data from \"http://bit.ly/2cLzoxH\".\n",
    "  - Plot the gdppercapita as function of the life expectancy. Is there any correlation?\n"
   ]
  },
  {
   "cell_type": "markdown",
   "metadata": {},
   "source": [
    "## Exercises\n",
    "\n",
    "From : https://www.w3resource.com/python-exercises/pandas/index.php , https://github.com/ajcr/100-pandas-puzzles/blob/master/100-pandas-puzzles.ipynb , https://github.com/guipsamora/pandas_exercises\n",
    "\n",
    "1. Write a Python program to create and display a DataFrame from a specified dictionary data which has the index labels.\n",
    "\n",
    "    - `exam_data = {'name': ['Anastasia', 'Dima', 'Katherine', 'James', 'Emily', 'Michael', 'Matthew',   'Laura', 'Kevin', 'Jonas']`,\n",
    "    `'score': [12.5, 9, 16.5, np.nan, 9, 20, 14.5, np.nan, 8, 19],`\n",
    "    `'attempts': [1, 3, 2, 3, 2, 3, 1, 1, 2, 1],`\n",
    "    `'qualify': ['yes', 'no', 'yes', 'no', 'no', 'yes', 'yes', 'no', 'no', 'yes']}`\n",
    "    - `labels = ['a', 'b', 'c', 'd', 'e', 'f', 'g', 'h', 'i', 'j']`\n",
    "    \n",
    "2. Print the `name` and `score` of the previous dataframe.\n",
    "\n",
    "3. Plot the socoreper student using matplotlib and seaborn.\n",
    "\n",
    "4. Show the students with tries larger or equal than 2.\n",
    "\n",
    "5. Compute the average examination attemps.\n",
    "\n",
    "6. Save the previous dataframe onto a csv and verify.\n",
    "\n",
    "7. Save the previous dictionary onto an escel file and verify.\n",
    "\n",
    "6. Solve the even exercises on https://github.com/ajcr/100-pandas-puzzles/blob/master/100-pandas-puzzles.ipynb "
   ]
  }
 ],
 "metadata": {
  "kernelspec": {
   "display_name": "Python 3",
   "language": "python",
   "name": "python3"
  },
  "language_info": {
   "codemirror_mode": {
    "name": "ipython",
    "version": 3
   },
   "file_extension": ".py",
   "mimetype": "text/x-python",
   "name": "python",
   "nbconvert_exporter": "python",
   "pygments_lexer": "ipython3",
   "version": "3.8.5"
  },
  "toc": {
   "base_numbering": 1,
   "nav_menu": {},
   "number_sections": true,
   "sideBar": true,
   "skip_h1_title": false,
   "title_cell": "Table of Contents",
   "title_sidebar": "Contents",
   "toc_cell": false,
   "toc_position": {},
   "toc_section_display": true,
   "toc_window_display": false
  }
 },
 "nbformat": 4,
 "nbformat_minor": 2
}
